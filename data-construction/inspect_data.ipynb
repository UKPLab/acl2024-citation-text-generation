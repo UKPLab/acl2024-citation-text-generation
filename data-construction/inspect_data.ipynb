{
 "cells": [
  {
   "cell_type": "code",
   "execution_count": 1,
   "metadata": {
    "collapsed": true,
    "ExecuteTime": {
     "end_time": "2023-10-14T10:02:44.843383981Z",
     "start_time": "2023-10-14T10:02:42.472506830Z"
    }
   },
   "outputs": [],
   "source": [
    "import pandas as pd\n",
    "import spacy"
   ]
  },
  {
   "cell_type": "code",
   "execution_count": 2,
   "outputs": [
    {
     "name": "stdout",
     "output_type": "stream",
     "text": [
      "There are 5971 rows, 27 columns in related work data\n",
      "There are 73139 rows, 47 columns in example data\n",
      "Related Work Data Columns\n",
      "Index(['acl_id', 'abstract', 'corpus_paper_id', 'pdf_hash', 'numcitedby',\n",
      "       'url', 'publisher', 'address', 'year', 'month', 'booktitle', 'author',\n",
      "       'title', 'clean_title', 'pages', 'doi', 'number', 'volume', 'journal',\n",
      "       'editor', 'isbn', 'paragraph_xml', 'paragraph', 'cited_paper_marks',\n",
      "       'cited_paper_titles', 'cited_papers_acl_ids', 'cited_papers_abstracts'],\n",
      "      dtype='object')\n",
      "Examples Data Columns\n",
      "Index(['example_id', 'sentence', 'paragraph_xml', 'paragraph', 'citation_mark',\n",
      "       'cited_acl_id', 'cited_abstract', 'cited_corpus_paper_id',\n",
      "       'cited_pdf_hash', 'cited_numcitedby', 'cited_url', 'cited_publisher',\n",
      "       'cited_address', 'cited_year', 'cited_month', 'cited_booktitle',\n",
      "       'cited_author', 'cited_title', 'cited_pages', 'cited_doi',\n",
      "       'cited_number', 'cited_volume', 'cited_journal', 'cited_editor',\n",
      "       'cited_isbn', 'cited_clean_title', 'citing_acl_id', 'citing_abstract',\n",
      "       'citing_corpus_paper_id', 'citing_pdf_hash', 'citing_numcitedby',\n",
      "       'citing_url', 'citing_publisher', 'citing_address', 'citing_year',\n",
      "       'citing_month', 'citing_booktitle', 'citing_author', 'citing_title',\n",
      "       'citing_pages', 'citing_doi', 'citing_number', 'citing_volume',\n",
      "       'citing_journal', 'citing_editor', 'citing_isbn', 'citing_clean_title'],\n",
      "      dtype='object')\n"
     ]
    }
   ],
   "source": [
    "rw_data = pd.read_csv(\"clean_acl_related_work_data.tsv\", sep=\"\\t\", header=0)\n",
    "example_data = pd.read_csv(\"clean_acl_rw_example_sentences.tsv\", sep=\"\\t\", header=0)\n",
    "\n",
    "# Dataframe shapes\n",
    "rw_instance_count, rw_column_size = rw_data.shape\n",
    "print('There are {:d} rows, {:d} columns in related work data'.format(rw_instance_count,rw_column_size))\n",
    "\n",
    "ex_instance_count, ex_column_size = example_data.shape\n",
    "print('There are {:d} rows, {:d} columns in example data'.format(ex_instance_count,ex_column_size))\n",
    "\n",
    "# Column names\n",
    "print(\"Related Work Data Columns\")\n",
    "print(rw_data.columns)\n",
    "print(\"Examples Data Columns\")\n",
    "print(example_data.columns)"
   ],
   "metadata": {
    "collapsed": false,
    "ExecuteTime": {
     "end_time": "2023-10-14T10:02:47.939378601Z",
     "start_time": "2023-10-14T10:02:44.833469835Z"
    }
   }
  },
  {
   "cell_type": "code",
   "execution_count": 3,
   "outputs": [
    {
     "name": "stdout",
     "output_type": "stream",
     "text": [
      "For related work data:\n",
      "\tTotal citation counts: 12950\n",
      "\tCitation count per paragraph: 2.168816\n",
      "\tNumber of unique citing papers: 4605\n",
      "\tNumber of unique cited papers: 6620\n",
      "\tAvg. occurrence of a cited paper: 1.956193\n"
     ]
    },
    {
     "data": {
      "text/plain": "                How many times occur\nCitation count                      \n1                               2729\n2                               1488\n3                                822\n4                                435\n5                                231\n6                                131\n7                                 63\n8                                 34\n9                                 20\n10                                 9\n11                                 5\n13                                 1\n14                                 1\n15                                 1\n18                                 1",
      "text/html": "<div>\n<style scoped>\n    .dataframe tbody tr th:only-of-type {\n        vertical-align: middle;\n    }\n\n    .dataframe tbody tr th {\n        vertical-align: top;\n    }\n\n    .dataframe thead th {\n        text-align: right;\n    }\n</style>\n<table border=\"1\" class=\"dataframe\">\n  <thead>\n    <tr style=\"text-align: right;\">\n      <th></th>\n      <th>How many times occur</th>\n    </tr>\n    <tr>\n      <th>Citation count</th>\n      <th></th>\n    </tr>\n  </thead>\n  <tbody>\n    <tr>\n      <th>1</th>\n      <td>2729</td>\n    </tr>\n    <tr>\n      <th>2</th>\n      <td>1488</td>\n    </tr>\n    <tr>\n      <th>3</th>\n      <td>822</td>\n    </tr>\n    <tr>\n      <th>4</th>\n      <td>435</td>\n    </tr>\n    <tr>\n      <th>5</th>\n      <td>231</td>\n    </tr>\n    <tr>\n      <th>6</th>\n      <td>131</td>\n    </tr>\n    <tr>\n      <th>7</th>\n      <td>63</td>\n    </tr>\n    <tr>\n      <th>8</th>\n      <td>34</td>\n    </tr>\n    <tr>\n      <th>9</th>\n      <td>20</td>\n    </tr>\n    <tr>\n      <th>10</th>\n      <td>9</td>\n    </tr>\n    <tr>\n      <th>11</th>\n      <td>5</td>\n    </tr>\n    <tr>\n      <th>13</th>\n      <td>1</td>\n    </tr>\n    <tr>\n      <th>14</th>\n      <td>1</td>\n    </tr>\n    <tr>\n      <th>15</th>\n      <td>1</td>\n    </tr>\n    <tr>\n      <th>18</th>\n      <td>1</td>\n    </tr>\n  </tbody>\n</table>\n</div>"
     },
     "execution_count": 3,
     "metadata": {},
     "output_type": "execute_result"
    }
   ],
   "source": [
    "cited_paper_titles = rw_data[\"cited_paper_titles\"]\n",
    "\n",
    "citation_counts = {}\n",
    "pg_citation_counts = []\n",
    "\n",
    "for papers in cited_paper_titles:\n",
    "    titles = papers.split(\" %%% \")\n",
    "    for title in titles:\n",
    "        try:\n",
    "            citation_counts[title] += 1\n",
    "        except:\n",
    "            citation_counts[title] = 1\n",
    "\n",
    "    pg_citation_counts.append(len(titles))\n",
    "\n",
    "pg_citation_counts_df = pd.Series(pg_citation_counts)\n",
    "citation_counts_df = pd.Series(citation_counts)\n",
    "\n",
    "print(\"For related work data:\")\n",
    "\n",
    "print(\"\\tTotal citation counts: {:d}\".format(citation_counts_df.sum()))\n",
    "print(\"\\tCitation count per paragraph: {:f}\".format(citation_counts_df.sum()/len(rw_data)))\n",
    "\n",
    "print(\"\\tNumber of unique citing papers: {:d}\".format(rw_data[\"acl_id\"].nunique()))\n",
    "print(\"\\tNumber of unique cited papers: {:d}\".format(len(citation_counts_df)))\n",
    "print(\"\\tAvg. occurrence of a cited paper: {:f}\".format(citation_counts_df.sum()/len(citation_counts_df)))\n",
    "\n",
    "pg_citation_counts_df.value_counts().rename_axis('Citation count').to_frame('How many times occur')\n"
   ],
   "metadata": {
    "collapsed": false,
    "ExecuteTime": {
     "end_time": "2023-10-14T10:02:47.998780627Z",
     "start_time": "2023-10-14T10:02:47.958187583Z"
    }
   }
  },
  {
   "cell_type": "code",
   "execution_count": 4,
   "outputs": [
    {
     "name": "stdout",
     "output_type": "stream",
     "text": [
      "Unique citing paper count: 16338\n",
      "Non-zero exampled cited paper count: 6594\n"
     ]
    },
    {
     "data": {
      "text/plain": "               How many times occur\nExample count                      \n1                               882\n2                               757\n3                               669\n4                               506\n5                               448\n...                             ...\n101                               1\n200                               1\n143                               1\n149                               1\n126                               1\n\n[123 rows x 1 columns]",
      "text/html": "<div>\n<style scoped>\n    .dataframe tbody tr th:only-of-type {\n        vertical-align: middle;\n    }\n\n    .dataframe tbody tr th {\n        vertical-align: top;\n    }\n\n    .dataframe thead th {\n        text-align: right;\n    }\n</style>\n<table border=\"1\" class=\"dataframe\">\n  <thead>\n    <tr style=\"text-align: right;\">\n      <th></th>\n      <th>How many times occur</th>\n    </tr>\n    <tr>\n      <th>Example count</th>\n      <th></th>\n    </tr>\n  </thead>\n  <tbody>\n    <tr>\n      <th>1</th>\n      <td>882</td>\n    </tr>\n    <tr>\n      <th>2</th>\n      <td>757</td>\n    </tr>\n    <tr>\n      <th>3</th>\n      <td>669</td>\n    </tr>\n    <tr>\n      <th>4</th>\n      <td>506</td>\n    </tr>\n    <tr>\n      <th>5</th>\n      <td>448</td>\n    </tr>\n    <tr>\n      <th>...</th>\n      <td>...</td>\n    </tr>\n    <tr>\n      <th>101</th>\n      <td>1</td>\n    </tr>\n    <tr>\n      <th>200</th>\n      <td>1</td>\n    </tr>\n    <tr>\n      <th>143</th>\n      <td>1</td>\n    </tr>\n    <tr>\n      <th>149</th>\n      <td>1</td>\n    </tr>\n    <tr>\n      <th>126</th>\n      <td>1</td>\n    </tr>\n  </tbody>\n</table>\n<p>123 rows × 1 columns</p>\n</div>"
     },
     "execution_count": 4,
     "metadata": {},
     "output_type": "execute_result"
    }
   ],
   "source": [
    "example_counts = {}\n",
    "\n",
    "for title in citation_counts:\n",
    "    example_counts[title] = len(example_data[example_data[\"cited_clean_title\"] == title])\n",
    "\n",
    "example_counts_df = pd.Series(example_counts)\n",
    "\n",
    "print(\"Unique citing paper count: {:d}\".format(len(example_data[\"citing_clean_title\"].unique())))\n",
    "print(\"Non-zero exampled cited paper count: {:d}\".format((example_counts_df != 0).sum()))\n",
    "\n",
    "\n",
    "example_counts_df.value_counts().rename_axis('Example count').to_frame('How many times occur')"
   ],
   "metadata": {
    "collapsed": false,
    "ExecuteTime": {
     "end_time": "2023-10-14T10:03:06.632100606Z",
     "start_time": "2023-10-14T10:02:47.987556128Z"
    }
   }
  },
  {
   "cell_type": "code",
   "execution_count": 5,
   "outputs": [
    {
     "name": "stdout",
     "output_type": "stream",
     "text": [
      "\tSentence count per paragraph: 4.220399\n",
      "\tWord count per paragraph: 98.666053\n",
      "\tWord count per sentence: 35.301166\n"
     ]
    }
   ],
   "source": [
    "nlp = spacy.load(\"en_core_sci_sm\")\n",
    "\n",
    "sentence_count_in_pg = []\n",
    "word_count_in_pg = []\n",
    "\n",
    "for i, row in rw_data.iterrows():\n",
    "    sentence_count_in_pg.append(len(list(nlp(row[\"paragraph\"]).sents)))\n",
    "    word_count_in_pg.append(len(row[\"paragraph\"].split()))\n",
    "\n",
    "word_count_examples = []\n",
    "for i, row in example_data.iterrows():\n",
    "    word_count_examples.append(len(row[\"sentence\"].split()))\n",
    "\n",
    "\n",
    "print(\"\\tSentence count per paragraph: {:f}\".format(sum(sentence_count_in_pg)/len(rw_data)))\n",
    "print(\"\\tWord count per paragraph: {:f}\".format(sum(word_count_in_pg)/len(rw_data)))\n",
    "print(\"\\tWord count per sentence: {:f}\".format(sum(word_count_examples)/len(example_data)))"
   ],
   "metadata": {
    "collapsed": false,
    "ExecuteTime": {
     "end_time": "2023-10-14T10:04:38.191532694Z",
     "start_time": "2023-10-14T10:03:06.634108994Z"
    }
   }
  }
 ],
 "metadata": {
  "kernelspec": {
   "display_name": "Python 3",
   "language": "python",
   "name": "python3"
  },
  "language_info": {
   "codemirror_mode": {
    "name": "ipython",
    "version": 2
   },
   "file_extension": ".py",
   "mimetype": "text/x-python",
   "name": "python",
   "nbconvert_exporter": "python",
   "pygments_lexer": "ipython2",
   "version": "2.7.6"
  }
 },
 "nbformat": 4,
 "nbformat_minor": 0
}
